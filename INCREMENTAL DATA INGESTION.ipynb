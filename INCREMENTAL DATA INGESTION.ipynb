{
 "cells": [
  {
   "cell_type": "code",
   "execution_count": 0,
   "metadata": {
    "application/vnd.databricks.v1+cell": {
     "cellMetadata": {
      "byteLimit": 2048000,
      "rowLimit": 10000
     },
     "inputWidgets": {},
     "nuid": "da2e0a00-c723-4af9-8d76-61ea743a4af4",
     "showTitle": false,
     "tableResultSettingsMap": {},
     "title": ""
    }
   },
   "outputs": [],
   "source": [
    "dbutils.widgets.text('source', '')"
   ]
  },
  {
   "cell_type": "code",
   "execution_count": 0,
   "metadata": {
    "application/vnd.databricks.v1+cell": {
     "cellMetadata": {
      "byteLimit": 2048000,
      "rowLimit": 10000
     },
     "inputWidgets": {},
     "nuid": "340272a9-4173-4558-8282-cb613232f730",
     "showTitle": false,
     "tableResultSettingsMap": {},
     "title": ""
    }
   },
   "outputs": [],
   "source": [
    "source_value = dbutils.widgets.get('source')"
   ]
  },
  {
   "cell_type": "code",
   "execution_count": 0,
   "metadata": {
    "application/vnd.databricks.v1+cell": {
     "cellMetadata": {
      "byteLimit": 2048000,
      "implicitDf": true,
      "rowLimit": 10000
     },
     "inputWidgets": {},
     "nuid": "a7ae8699-4ed3-40c4-a393-81f88addc81a",
     "showTitle": false,
     "tableResultSettingsMap": {},
     "title": ""
    }
   },
   "outputs": [],
   "source": [
    "%sql\n",
    "-- CREATE SCHEMA workspace.raw;\n",
    "-- CREATE SCHEMA workspace.bronze;\n",
    "-- CREATE SCHEMA workspace.silver;\n",
    "-- CREATE SCHEMA workspace.gold;"
   ]
  },
  {
   "cell_type": "code",
   "execution_count": 0,
   "metadata": {
    "application/vnd.databricks.v1+cell": {
     "cellMetadata": {
      "byteLimit": 2048000,
      "implicitDf": true,
      "rowLimit": 10000
     },
     "inputWidgets": {},
     "nuid": "b922d5ce-dfac-419a-9c5e-15664d0db0ce",
     "showTitle": false,
     "tableResultSettingsMap": {},
     "title": ""
    }
   },
   "outputs": [],
   "source": [
    "%sql\n",
    "-- CREATE VOLUME workspace.bronze.volume;\n",
    "-- CREATE VOLUME workspace.silver.volume;\n",
    "-- CREATE VOLUME workspace.gold.volume;"
   ]
  },
  {
   "cell_type": "code",
   "execution_count": 0,
   "metadata": {
    "application/vnd.databricks.v1+cell": {
     "cellMetadata": {
      "byteLimit": 2048000,
      "rowLimit": 10000
     },
     "inputWidgets": {},
     "nuid": "b2d018ff-01ce-4c68-9ccc-bb9260d4797f",
     "showTitle": false,
     "tableResultSettingsMap": {},
     "title": ""
    }
   },
   "outputs": [],
   "source": [
    "# dbutils.fs.mkdirs(\"/Volumes/workspace/raw/raw_data/customers\")\n",
    "# dbutils.fs.mkdirs(\"/Volumes/workspace/raw/raw_data/airports\")\n",
    "# dbutils.fs.mkdirs(\"/Volumes/workspace/raw/raw_data/bookings\")\n",
    "# dbutils.fs.mkdirs(\"/Volumes/workspace/raw/raw_data/flights\")"
   ]
  },
  {
   "cell_type": "code",
   "execution_count": 0,
   "metadata": {
    "application/vnd.databricks.v1+cell": {
     "cellMetadata": {
      "byteLimit": 2048000,
      "rowLimit": 10000
     },
     "inputWidgets": {},
     "nuid": "d53cc428-22ea-4574-b5dc-9169d5bca208",
     "showTitle": false,
     "tableResultSettingsMap": {},
     "title": ""
    }
   },
   "outputs": [],
   "source": [
    "df = spark.readStream.format('cloudFiles').options(\n",
    "    **{\n",
    "        'cloudFiles.format':'csv',\n",
    "        'cloudFiles.schemaLocation':f'/Volumes/workspace/bronze/volume/{source_value}/checkpoint',\n",
    "        'cloudFiles.schemaEvolutionMode':'rescue'\n",
    "    }\n",
    ").load(f'/Volumes/workspace/raw/raw_data/{source_value}/')\n",
    "    "
   ]
  },
  {
   "cell_type": "code",
   "execution_count": 0,
   "metadata": {
    "application/vnd.databricks.v1+cell": {
     "cellMetadata": {
      "byteLimit": 2048000,
      "rowLimit": 10000
     },
     "inputWidgets": {},
     "nuid": "578c28b2-c662-4867-86f7-735a3db93ef3",
     "showTitle": false,
     "tableResultSettingsMap": {},
     "title": ""
    }
   },
   "outputs": [],
   "source": [
    "df.writeStream.format('delta').options(\n",
    "    **{\n",
    "        'outputMode':'append',\n",
    "        'checkpointLocation': f'/Volumes/workspace/bronze/volume/{source_value}/checkpoint',\n",
    "        'path': f'/Volumes/workspace/bronze/volume/{source_value}/data'\n",
    "    }\n",
    ").trigger(once=True).start()"
   ]
  },
  {
   "cell_type": "code",
   "execution_count": 0,
   "metadata": {
    "application/vnd.databricks.v1+cell": {
     "cellMetadata": {
      "byteLimit": 2048000,
      "implicitDf": true,
      "rowLimit": 10000
     },
     "inputWidgets": {},
     "nuid": "38fd7b08-371c-4dbd-a6f4-00b6a3871b50",
     "showTitle": false,
     "tableResultSettingsMap": {},
     "title": ""
    }
   },
   "outputs": [],
   "source": [
    "%sql\n",
    "SELECT * FROM delta.`/Volumes/workspace/bronze/volume/airports/data`"
   ]
  }
 ],
 "metadata": {
  "application/vnd.databricks.v1+notebook": {
   "computePreferences": null,
   "dashboards": [],
   "environmentMetadata": {
    "base_environment": "",
    "environment_version": "2"
   },
   "inputWidgetPreferences": null,
   "language": "python",
   "notebookMetadata": {
    "mostRecentlyExecutedCommandWithImplicitDF": {
     "commandId": 7088763222497683,
     "dataframes": [
      "_sqldf"
     ]
    },
    "pythonIndentUnit": 4
   },
   "notebookName": "INCREMENTAL DATA INGESTION",
   "widgets": {
    "source": {
     "currentValue": "bookings",
     "nuid": "c1204756-73f2-4e00-84e0-d1cf64bfab08",
     "typedWidgetInfo": {
      "autoCreated": false,
      "defaultValue": "",
      "label": null,
      "name": "source",
      "options": {
       "widgetDisplayType": "Text",
       "validationRegex": null
      },
      "parameterDataType": "String"
     },
     "widgetInfo": {
      "widgetType": "text",
      "defaultValue": "",
      "label": null,
      "name": "source",
      "options": {
       "widgetType": "text",
       "autoCreated": null,
       "validationRegex": null
      }
     }
    }
   }
  },
  "language_info": {
   "name": "python"
  }
 },
 "nbformat": 4,
 "nbformat_minor": 0
}
